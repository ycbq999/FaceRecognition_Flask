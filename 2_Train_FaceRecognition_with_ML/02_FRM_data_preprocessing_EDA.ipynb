{
 "cells": [
  {
   "cell_type": "markdown",
   "metadata": {},
   "source": [
    "# Exploratory Data Analysis\n",
    "1. Distribution of Male and Female \n",
    " - Bar Chart\n",
    " - Pie Chart\n",
    "2. What Distribution of size of all Images\n",
    " - Histogram\n",
    " - Box Plot\n",
    " - Split by “Gender”\n",
    "3. Make the decision of width & height to resize using above chart.\n",
    "4. Remove the few images that are having very less size"
   ]
  },
  {
   "cell_type": "code",
   "execution_count": 1,
   "metadata": {},
   "outputs": [],
   "source": [
    "import numpy as np\n",
    "import pandas as pd\n",
    "\n",
    "# visualization\n",
    "import matplotlib.pyplot as plt\n",
    "import seaborn as sns\n",
    "\n",
    "# computer vision library\n",
    "import cv2\n",
    "\n",
    "# glob\n",
    "from glob import glob"
   ]
  },
  {
   "cell_type": "code",
   "execution_count": 2,
   "metadata": {},
   "outputs": [],
   "source": [
    "import warnings\n",
    "warnings.filterwarnings('ignore')"
   ]
  },
  {
   "cell_type": "code",
   "execution_count": 3,
   "metadata": {},
   "outputs": [],
   "source": [
    "# extract path of male and female in crop_data folder and put them in a list\n",
    "fpath = glob('./crop_data/female/*.jpg')\n",
    "mpath = glob('./crop_data/male/*.jpg')"
   ]
  },
  {
   "cell_type": "code",
   "execution_count": 6,
   "metadata": {},
   "outputs": [],
   "source": [
    "df_female = pd.DataFrame(fpath,columns=['filepath'])\n",
    "df_female['gender'] = 'female'\n",
    "\n",
    "df_male = pd.DataFrame(mpath,columns=['filepath'])\n",
    "df_male['gender'] = 'male'\n",
    "\n",
    "df = pd.concat((df_female,df_male),axis=0)\n"
   ]
  },
  {
   "cell_type": "code",
   "execution_count": 7,
   "metadata": {},
   "outputs": [
    {
     "data": {
      "text/html": [
       "<div>\n",
       "<style scoped>\n",
       "    .dataframe tbody tr th:only-of-type {\n",
       "        vertical-align: middle;\n",
       "    }\n",
       "\n",
       "    .dataframe tbody tr th {\n",
       "        vertical-align: top;\n",
       "    }\n",
       "\n",
       "    .dataframe thead th {\n",
       "        text-align: right;\n",
       "    }\n",
       "</style>\n",
       "<table border=\"1\" class=\"dataframe\">\n",
       "  <thead>\n",
       "    <tr style=\"text-align: right;\">\n",
       "      <th></th>\n",
       "      <th>filepath</th>\n",
       "      <th>gender</th>\n",
       "    </tr>\n",
       "  </thead>\n",
       "  <tbody>\n",
       "    <tr>\n",
       "      <th>0</th>\n",
       "      <td>./crop_data/female/female_3399.jpg</td>\n",
       "      <td>female</td>\n",
       "    </tr>\n",
       "    <tr>\n",
       "      <th>1</th>\n",
       "      <td>./crop_data/female/female_3590.jpg</td>\n",
       "      <td>female</td>\n",
       "    </tr>\n",
       "    <tr>\n",
       "      <th>2</th>\n",
       "      <td>./crop_data/female/female_2375.jpg</td>\n",
       "      <td>female</td>\n",
       "    </tr>\n",
       "    <tr>\n",
       "      <th>3</th>\n",
       "      <td>./crop_data/female/female_4341.jpg</td>\n",
       "      <td>female</td>\n",
       "    </tr>\n",
       "    <tr>\n",
       "      <th>4</th>\n",
       "      <td>./crop_data/female/female_2529.jpg</td>\n",
       "      <td>female</td>\n",
       "    </tr>\n",
       "  </tbody>\n",
       "</table>\n",
       "</div>"
      ],
      "text/plain": [
       "                             filepath  gender\n",
       "0  ./crop_data/female/female_3399.jpg  female\n",
       "1  ./crop_data/female/female_3590.jpg  female\n",
       "2  ./crop_data/female/female_2375.jpg  female\n",
       "3  ./crop_data/female/female_4341.jpg  female\n",
       "4  ./crop_data/female/female_2529.jpg  female"
      ]
     },
     "execution_count": 7,
     "metadata": {},
     "output_type": "execute_result"
    }
   ],
   "source": [
    "df.head()    "
   ]
  },
  {
   "cell_type": "code",
   "execution_count": 8,
   "metadata": {},
   "outputs": [
    {
     "data": {
      "text/html": [
       "<div>\n",
       "<style scoped>\n",
       "    .dataframe tbody tr th:only-of-type {\n",
       "        vertical-align: middle;\n",
       "    }\n",
       "\n",
       "    .dataframe tbody tr th {\n",
       "        vertical-align: top;\n",
       "    }\n",
       "\n",
       "    .dataframe thead th {\n",
       "        text-align: right;\n",
       "    }\n",
       "</style>\n",
       "<table border=\"1\" class=\"dataframe\">\n",
       "  <thead>\n",
       "    <tr style=\"text-align: right;\">\n",
       "      <th></th>\n",
       "      <th>filepath</th>\n",
       "      <th>gender</th>\n",
       "    </tr>\n",
       "  </thead>\n",
       "  <tbody>\n",
       "    <tr>\n",
       "      <th>2170</th>\n",
       "      <td>./crop_data/male/male_1084.jpg</td>\n",
       "      <td>male</td>\n",
       "    </tr>\n",
       "    <tr>\n",
       "      <th>2171</th>\n",
       "      <td>./crop_data/male/male_4349.jpg</td>\n",
       "      <td>male</td>\n",
       "    </tr>\n",
       "    <tr>\n",
       "      <th>2172</th>\n",
       "      <td>./crop_data/male/male_861.jpg</td>\n",
       "      <td>male</td>\n",
       "    </tr>\n",
       "    <tr>\n",
       "      <th>2173</th>\n",
       "      <td>./crop_data/male/male_5128.jpg</td>\n",
       "      <td>male</td>\n",
       "    </tr>\n",
       "    <tr>\n",
       "      <th>2174</th>\n",
       "      <td>./crop_data/male/male_3488.jpg</td>\n",
       "      <td>male</td>\n",
       "    </tr>\n",
       "  </tbody>\n",
       "</table>\n",
       "</div>"
      ],
      "text/plain": [
       "                            filepath gender\n",
       "2170  ./crop_data/male/male_1084.jpg   male\n",
       "2171  ./crop_data/male/male_4349.jpg   male\n",
       "2172   ./crop_data/male/male_861.jpg   male\n",
       "2173  ./crop_data/male/male_5128.jpg   male\n",
       "2174  ./crop_data/male/male_3488.jpg   male"
      ]
     },
     "execution_count": 8,
     "metadata": {},
     "output_type": "execute_result"
    }
   ],
   "source": [
    "df.tail()"
   ]
  },
  {
   "cell_type": "code",
   "execution_count": 9,
   "metadata": {},
   "outputs": [
    {
     "data": {
      "text/plain": [
       "(4761, 2)"
      ]
     },
     "execution_count": 9,
     "metadata": {},
     "output_type": "execute_result"
    }
   ],
   "source": [
    "df.shape"
   ]
  },
  {
   "cell_type": "code",
   "execution_count": 10,
   "metadata": {},
   "outputs": [],
   "source": [
    "# it will take each image path\n",
    "# then return width of the image\n",
    "def get_size(path):\n",
    "    img = cv2.imread(path)\n",
    "    return img.shape[0]"
   ]
  },
  {
   "cell_type": "code",
   "execution_count": 11,
   "metadata": {},
   "outputs": [],
   "source": [
    "df['dimension'] = df['filepath'].apply(get_size) # store dimension of image in this columns"
   ]
  },
  {
   "cell_type": "code",
   "execution_count": 12,
   "metadata": {},
   "outputs": [
    {
     "data": {
      "text/html": [
       "<div>\n",
       "<style scoped>\n",
       "    .dataframe tbody tr th:only-of-type {\n",
       "        vertical-align: middle;\n",
       "    }\n",
       "\n",
       "    .dataframe tbody tr th {\n",
       "        vertical-align: top;\n",
       "    }\n",
       "\n",
       "    .dataframe thead th {\n",
       "        text-align: right;\n",
       "    }\n",
       "</style>\n",
       "<table border=\"1\" class=\"dataframe\">\n",
       "  <thead>\n",
       "    <tr style=\"text-align: right;\">\n",
       "      <th></th>\n",
       "      <th>filepath</th>\n",
       "      <th>gender</th>\n",
       "      <th>dimension</th>\n",
       "    </tr>\n",
       "  </thead>\n",
       "  <tbody>\n",
       "    <tr>\n",
       "      <th>0</th>\n",
       "      <td>./crop_data/female/female_3399.jpg</td>\n",
       "      <td>female</td>\n",
       "      <td>182</td>\n",
       "    </tr>\n",
       "    <tr>\n",
       "      <th>1</th>\n",
       "      <td>./crop_data/female/female_3590.jpg</td>\n",
       "      <td>female</td>\n",
       "      <td>182</td>\n",
       "    </tr>\n",
       "    <tr>\n",
       "      <th>2</th>\n",
       "      <td>./crop_data/female/female_2375.jpg</td>\n",
       "      <td>female</td>\n",
       "      <td>122</td>\n",
       "    </tr>\n",
       "    <tr>\n",
       "      <th>3</th>\n",
       "      <td>./crop_data/female/female_4341.jpg</td>\n",
       "      <td>female</td>\n",
       "      <td>182</td>\n",
       "    </tr>\n",
       "    <tr>\n",
       "      <th>4</th>\n",
       "      <td>./crop_data/female/female_2529.jpg</td>\n",
       "      <td>female</td>\n",
       "      <td>122</td>\n",
       "    </tr>\n",
       "  </tbody>\n",
       "</table>\n",
       "</div>"
      ],
      "text/plain": [
       "                             filepath  gender  dimension\n",
       "0  ./crop_data/female/female_3399.jpg  female        182\n",
       "1  ./crop_data/female/female_3590.jpg  female        182\n",
       "2  ./crop_data/female/female_2375.jpg  female        122\n",
       "3  ./crop_data/female/female_4341.jpg  female        182\n",
       "4  ./crop_data/female/female_2529.jpg  female        122"
      ]
     },
     "execution_count": 12,
     "metadata": {},
     "output_type": "execute_result"
    }
   ],
   "source": [
    "df.head()"
   ]
  },
  {
   "cell_type": "markdown",
   "metadata": {},
   "source": [
    "#### Exploratory Data Analysis\n",
    "1. Distribution of Male and Female \n",
    " - Bar Chart\n",
    " - Pie Chart\n",
    "2. What Distribution of size of all Images\n",
    " - Histogram\n",
    " - Box Plot\n",
    " - Split by “Gender”\n",
    "3. Make the decision of width & height to resize using above chart.\n",
    "4. Remove the few images that are having very less size"
   ]
  },
  {
   "cell_type": "code",
   "execution_count": 13,
   "metadata": {},
   "outputs": [
    {
     "data": {
      "text/plain": [
       "gender\n",
       "female    2586\n",
       "male      2175\n",
       "Name: count, dtype: int64"
      ]
     },
     "execution_count": 13,
     "metadata": {},
     "output_type": "execute_result"
    }
   ],
   "source": [
    "dist_gender = df['gender'].value_counts()\n",
    "dist_gender"
   ]
  },
  {
   "cell_type": "code",
   "execution_count": 14,
   "metadata": {},
   "outputs": [
    {
     "data": {
      "image/png": "[encoded data removed]",
      "text/plain": [
       "<Figure size 640x480 with 2 Axes>"
      ]
     },
     "metadata": {},
     "output_type": "display_data"
    }
   ],
   "source": [
    "fig,ax = plt.subplots(nrows=1,ncols=2)\n",
    "dist_gender.plot(kind='bar',ax=ax[0])\n",
    "dist_gender.plot(kind='pie',ax=ax[1],autopct='%0.0f%%')\n",
    "plt.show()"
   ]
  },
  {
   "cell_type": "code",
   "execution_count": 26,
   "metadata": {},
   "outputs": [
    {
     "data": {
      "image/png": "[encoded data removed]",
      "text/plain": [
       "<Figure size 1200x600 with 2 Axes>"
      ]
     },
     "metadata": {},
     "output_type": "display_data"
    }
   ],
   "source": [
    "# What Distribution of size of all Images\n",
    "# Histogram\n",
    "# Box Plot\n",
    "# Split by “Gender”\n",
    "plt.figure(figsize=(12,6))\n",
    "plt.subplot(2,1,1)\n",
    "sns.histplot(df['dimension'])\n",
    "plt.subplot(2,1,2)\n",
    "sns.boxplot(data = df, x='dimension')\n",
    "plt.show()"
   ]
  },
  {
   "cell_type": "code",
   "execution_count": 18,
   "metadata": {},
   "outputs": [
    {
     "data": {
      "text/plain": [
       "<seaborn.axisgrid.FacetGrid at 0x7fb6025904c0>"
      ]
     },
     "execution_count": 18,
     "metadata": {},
     "output_type": "execute_result"
    },
    {
     "data": {
      "image/png": "[encoded data removed]",
      "text/plain": [
       "<Figure size 500x500 with 1 Axes>"
      ]
     },
     "metadata": {},
     "output_type": "display_data"
    }
   ],
   "source": [
    "sns.catplot(data=df,x='gender',y='dimension',kind='box')"
   ]
  },
  {
   "cell_type": "markdown",
   "metadata": {},
   "source": [
    "1. We have almost equal distrbution of gender (numbers)\n",
    "2. Most of the images are having dimension more than 60\n",
    "3. Female most of the female images are HD compare to male images\n",
    "\n",
    "---\n",
    "- **Consider the image with dimensions more than 60**\n",
    "- **Resize all the the image into 100 x 100**"
   ]
  },
  {
   "cell_type": "code",
   "execution_count": 27,
   "metadata": {},
   "outputs": [
    {
     "data": {
      "text/plain": [
       "(4323, 3)"
      ]
     },
     "execution_count": 27,
     "metadata": {},
     "output_type": "execute_result"
    }
   ],
   "source": [
    "df_filter = df.query('dimension > 60')\n",
    "df_filter.shape"
   ]
  },
  {
   "cell_type": "code",
   "execution_count": 28,
   "metadata": {},
   "outputs": [
    {
     "data": {
      "text/plain": [
       "gender\n",
       "female    0.552163\n",
       "male      0.447837\n",
       "Name: proportion, dtype: float64"
      ]
     },
     "execution_count": 28,
     "metadata": {},
     "output_type": "execute_result"
    }
   ],
   "source": [
    "df_filter['gender'].value_counts(normalize=True)"
   ]
  },
  {
   "cell_type": "markdown",
   "metadata": {},
   "source": [
    "#### Structure the image \n",
    "- 100 x 100"
   ]
  },
  {
   "cell_type": "code",
   "execution_count": 29,
   "metadata": {},
   "outputs": [],
   "source": [
    "def structuring(path):\n",
    "    try:\n",
    "\n",
    "        # step - 1: read image\n",
    "        img = cv2.imread(path) # BGR\n",
    "        # step - 2: convert into grayscale\n",
    "        gray = cv2.cvtColor(img,cv2.COLOR_BGR2GRAY)\n",
    "        # step -3: resize into 100 x 100 array   \n",
    "\n",
    "        size = gray.shape[0]\n",
    "        if size >= 100:\n",
    "            # cv2.INTER_AREA (SHINK)\n",
    "            gray_resize = cv2.resize(gray,(100,100),cv2.INTER_AREA)\n",
    "        else:\n",
    "            # cv2.INTER_CUBIC (ENLARGE)\n",
    "            gray_resize = cv2.resize(gray,(100,100),cv2.INTER_CUBIC)\n",
    "\n",
    "        # step -4: Flatten Image (1x10,000)\n",
    "        flatten_image = gray_resize.flatten()\n",
    "        return flatten_image\n",
    "    \n",
    "    except:\n",
    "        return None"
   ]
  },
  {
   "cell_type": "code",
   "execution_count": 30,
   "metadata": {},
   "outputs": [
    {
     "data": {
      "text/html": [
       "<div>\n",
       "<style scoped>\n",
       "    .dataframe tbody tr th:only-of-type {\n",
       "        vertical-align: middle;\n",
       "    }\n",
       "\n",
       "    .dataframe tbody tr th {\n",
       "        vertical-align: top;\n",
       "    }\n",
       "\n",
       "    .dataframe thead th {\n",
       "        text-align: right;\n",
       "    }\n",
       "</style>\n",
       "<table border=\"1\" class=\"dataframe\">\n",
       "  <thead>\n",
       "    <tr style=\"text-align: right;\">\n",
       "      <th></th>\n",
       "      <th>filepath</th>\n",
       "      <th>gender</th>\n",
       "      <th>dimension</th>\n",
       "      <th>data</th>\n",
       "    </tr>\n",
       "  </thead>\n",
       "  <tbody>\n",
       "    <tr>\n",
       "      <th>0</th>\n",
       "      <td>./crop_data/female/female_3399.jpg</td>\n",
       "      <td>female</td>\n",
       "      <td>182</td>\n",
       "      <td>[107, 122, 157, 147, 98, 102, 89, 104, 115, 13...</td>\n",
       "    </tr>\n",
       "    <tr>\n",
       "      <th>1</th>\n",
       "      <td>./crop_data/female/female_3590.jpg</td>\n",
       "      <td>female</td>\n",
       "      <td>182</td>\n",
       "      <td>[18, 22, 9, 13, 13, 7, 6, 7, 10, 10, 9, 11, 10...</td>\n",
       "    </tr>\n",
       "    <tr>\n",
       "      <th>2</th>\n",
       "      <td>./crop_data/female/female_2375.jpg</td>\n",
       "      <td>female</td>\n",
       "      <td>122</td>\n",
       "      <td>[50, 50, 50, 50, 50, 50, 50, 50, 50, 50, 50, 5...</td>\n",
       "    </tr>\n",
       "    <tr>\n",
       "      <th>3</th>\n",
       "      <td>./crop_data/female/female_4341.jpg</td>\n",
       "      <td>female</td>\n",
       "      <td>182</td>\n",
       "      <td>[39, 44, 36, 32, 45, 32, 50, 20, 34, 31, 33, 3...</td>\n",
       "    </tr>\n",
       "    <tr>\n",
       "      <th>4</th>\n",
       "      <td>./crop_data/female/female_2529.jpg</td>\n",
       "      <td>female</td>\n",
       "      <td>122</td>\n",
       "      <td>[108, 97, 75, 72, 71, 82, 93, 89, 82, 77, 86, ...</td>\n",
       "    </tr>\n",
       "  </tbody>\n",
       "</table>\n",
       "</div>"
      ],
      "text/plain": [
       "                             filepath  gender  dimension  \\\n",
       "0  ./crop_data/female/female_3399.jpg  female        182   \n",
       "1  ./crop_data/female/female_3590.jpg  female        182   \n",
       "2  ./crop_data/female/female_2375.jpg  female        122   \n",
       "3  ./crop_data/female/female_4341.jpg  female        182   \n",
       "4  ./crop_data/female/female_2529.jpg  female        122   \n",
       "\n",
       "                                                data  \n",
       "0  [107, 122, 157, 147, 98, 102, 89, 104, 115, 13...  \n",
       "1  [18, 22, 9, 13, 13, 7, 6, 7, 10, 10, 9, 11, 10...  \n",
       "2  [50, 50, 50, 50, 50, 50, 50, 50, 50, 50, 50, 5...  \n",
       "3  [39, 44, 36, 32, 45, 32, 50, 20, 34, 31, 33, 3...  \n",
       "4  [108, 97, 75, 72, 71, 82, 93, 89, 82, 77, 86, ...  "
      ]
     },
     "execution_count": 30,
     "metadata": {},
     "output_type": "execute_result"
    }
   ],
   "source": [
    "df_filter['data'] = df_filter['filepath'].apply(structuring) # convert all images into 100 x 100\n",
    "df_filter.head()"
   ]
  },
  {
   "cell_type": "code",
   "execution_count": 31,
   "metadata": {},
   "outputs": [
    {
     "data": {
      "text/html": [
       "<div>\n",
       "<style scoped>\n",
       "    .dataframe tbody tr th:only-of-type {\n",
       "        vertical-align: middle;\n",
       "    }\n",
       "\n",
       "    .dataframe tbody tr th {\n",
       "        vertical-align: top;\n",
       "    }\n",
       "\n",
       "    .dataframe thead th {\n",
       "        text-align: right;\n",
       "    }\n",
       "</style>\n",
       "<table border=\"1\" class=\"dataframe\">\n",
       "  <thead>\n",
       "    <tr style=\"text-align: right;\">\n",
       "      <th></th>\n",
       "      <th>pixel_0</th>\n",
       "      <th>pixel_1</th>\n",
       "      <th>pixel_2</th>\n",
       "      <th>pixel_3</th>\n",
       "      <th>pixel_4</th>\n",
       "      <th>pixel_5</th>\n",
       "      <th>pixel_6</th>\n",
       "      <th>pixel_7</th>\n",
       "      <th>pixel_8</th>\n",
       "      <th>pixel_9</th>\n",
       "      <th>...</th>\n",
       "      <th>pixel_9990</th>\n",
       "      <th>pixel_9991</th>\n",
       "      <th>pixel_9992</th>\n",
       "      <th>pixel_9993</th>\n",
       "      <th>pixel_9994</th>\n",
       "      <th>pixel_9995</th>\n",
       "      <th>pixel_9996</th>\n",
       "      <th>pixel_9997</th>\n",
       "      <th>pixel_9998</th>\n",
       "      <th>pixel_9999</th>\n",
       "    </tr>\n",
       "  </thead>\n",
       "  <tbody>\n",
       "    <tr>\n",
       "      <th>0</th>\n",
       "      <td>107</td>\n",
       "      <td>122</td>\n",
       "      <td>157</td>\n",
       "      <td>147</td>\n",
       "      <td>98</td>\n",
       "      <td>102</td>\n",
       "      <td>89</td>\n",
       "      <td>104</td>\n",
       "      <td>115</td>\n",
       "      <td>138</td>\n",
       "      <td>...</td>\n",
       "      <td>101</td>\n",
       "      <td>87</td>\n",
       "      <td>139</td>\n",
       "      <td>90</td>\n",
       "      <td>119</td>\n",
       "      <td>160</td>\n",
       "      <td>190</td>\n",
       "      <td>192</td>\n",
       "      <td>187</td>\n",
       "      <td>193</td>\n",
       "    </tr>\n",
       "    <tr>\n",
       "      <th>1</th>\n",
       "      <td>18</td>\n",
       "      <td>22</td>\n",
       "      <td>9</td>\n",
       "      <td>13</td>\n",
       "      <td>13</td>\n",
       "      <td>7</td>\n",
       "      <td>6</td>\n",
       "      <td>7</td>\n",
       "      <td>10</td>\n",
       "      <td>10</td>\n",
       "      <td>...</td>\n",
       "      <td>65</td>\n",
       "      <td>60</td>\n",
       "      <td>56</td>\n",
       "      <td>51</td>\n",
       "      <td>46</td>\n",
       "      <td>46</td>\n",
       "      <td>46</td>\n",
       "      <td>45</td>\n",
       "      <td>40</td>\n",
       "      <td>36</td>\n",
       "    </tr>\n",
       "    <tr>\n",
       "      <th>2</th>\n",
       "      <td>50</td>\n",
       "      <td>50</td>\n",
       "      <td>50</td>\n",
       "      <td>50</td>\n",
       "      <td>50</td>\n",
       "      <td>50</td>\n",
       "      <td>50</td>\n",
       "      <td>50</td>\n",
       "      <td>50</td>\n",
       "      <td>50</td>\n",
       "      <td>...</td>\n",
       "      <td>134</td>\n",
       "      <td>134</td>\n",
       "      <td>136</td>\n",
       "      <td>134</td>\n",
       "      <td>131</td>\n",
       "      <td>130</td>\n",
       "      <td>127</td>\n",
       "      <td>126</td>\n",
       "      <td>138</td>\n",
       "      <td>158</td>\n",
       "    </tr>\n",
       "    <tr>\n",
       "      <th>3</th>\n",
       "      <td>39</td>\n",
       "      <td>44</td>\n",
       "      <td>36</td>\n",
       "      <td>32</td>\n",
       "      <td>45</td>\n",
       "      <td>32</td>\n",
       "      <td>50</td>\n",
       "      <td>20</td>\n",
       "      <td>34</td>\n",
       "      <td>31</td>\n",
       "      <td>...</td>\n",
       "      <td>22</td>\n",
       "      <td>19</td>\n",
       "      <td>18</td>\n",
       "      <td>14</td>\n",
       "      <td>24</td>\n",
       "      <td>18</td>\n",
       "      <td>28</td>\n",
       "      <td>22</td>\n",
       "      <td>39</td>\n",
       "      <td>35</td>\n",
       "    </tr>\n",
       "    <tr>\n",
       "      <th>4</th>\n",
       "      <td>108</td>\n",
       "      <td>97</td>\n",
       "      <td>75</td>\n",
       "      <td>72</td>\n",
       "      <td>71</td>\n",
       "      <td>82</td>\n",
       "      <td>93</td>\n",
       "      <td>89</td>\n",
       "      <td>82</td>\n",
       "      <td>77</td>\n",
       "      <td>...</td>\n",
       "      <td>232</td>\n",
       "      <td>231</td>\n",
       "      <td>232</td>\n",
       "      <td>202</td>\n",
       "      <td>213</td>\n",
       "      <td>238</td>\n",
       "      <td>243</td>\n",
       "      <td>241</td>\n",
       "      <td>182</td>\n",
       "      <td>114</td>\n",
       "    </tr>\n",
       "  </tbody>\n",
       "</table>\n",
       "<p>5 rows × 10000 columns</p>\n",
       "</div>"
      ],
      "text/plain": [
       "   pixel_0  pixel_1  pixel_2  pixel_3  pixel_4  pixel_5  pixel_6  pixel_7  \\\n",
       "0      107      122      157      147       98      102       89      104   \n",
       "1       18       22        9       13       13        7        6        7   \n",
       "2       50       50       50       50       50       50       50       50   \n",
       "3       39       44       36       32       45       32       50       20   \n",
       "4      108       97       75       72       71       82       93       89   \n",
       "\n",
       "   pixel_8  pixel_9  ...  pixel_9990  pixel_9991  pixel_9992  pixel_9993  \\\n",
       "0      115      138  ...         101          87         139          90   \n",
       "1       10       10  ...          65          60          56          51   \n",
       "2       50       50  ...         134         134         136         134   \n",
       "3       34       31  ...          22          19          18          14   \n",
       "4       82       77  ...         232         231         232         202   \n",
       "\n",
       "   pixel_9994  pixel_9995  pixel_9996  pixel_9997  pixel_9998  pixel_9999  \n",
       "0         119         160         190         192         187         193  \n",
       "1          46          46          46          45          40          36  \n",
       "2         131         130         127         126         138         158  \n",
       "3          24          18          28          22          39          35  \n",
       "4         213         238         243         241         182         114  \n",
       "\n",
       "[5 rows x 10000 columns]"
      ]
     },
     "execution_count": 31,
     "metadata": {},
     "output_type": "execute_result"
    }
   ],
   "source": [
    "data = df_filter['data'].apply(pd.Series)\n",
    "data.columns = [f\"pixel_{i}\" for i in data.columns]\n",
    "data.head()"
   ]
  },
  {
   "cell_type": "markdown",
   "metadata": {},
   "source": [
    "#### Data Normalization"
   ]
  },
  {
   "cell_type": "code",
   "execution_count": 32,
   "metadata": {},
   "outputs": [
    {
     "data": {
      "text/html": [
       "<div>\n",
       "<style scoped>\n",
       "    .dataframe tbody tr th:only-of-type {\n",
       "        vertical-align: middle;\n",
       "    }\n",
       "\n",
       "    .dataframe tbody tr th {\n",
       "        vertical-align: top;\n",
       "    }\n",
       "\n",
       "    .dataframe thead th {\n",
       "        text-align: right;\n",
       "    }\n",
       "</style>\n",
       "<table border=\"1\" class=\"dataframe\">\n",
       "  <thead>\n",
       "    <tr style=\"text-align: right;\">\n",
       "      <th></th>\n",
       "      <th>pixel_0</th>\n",
       "      <th>pixel_1</th>\n",
       "      <th>pixel_2</th>\n",
       "      <th>pixel_3</th>\n",
       "      <th>pixel_4</th>\n",
       "      <th>pixel_5</th>\n",
       "      <th>pixel_6</th>\n",
       "      <th>pixel_7</th>\n",
       "      <th>pixel_8</th>\n",
       "      <th>pixel_9</th>\n",
       "      <th>...</th>\n",
       "      <th>pixel_9991</th>\n",
       "      <th>pixel_9992</th>\n",
       "      <th>pixel_9993</th>\n",
       "      <th>pixel_9994</th>\n",
       "      <th>pixel_9995</th>\n",
       "      <th>pixel_9996</th>\n",
       "      <th>pixel_9997</th>\n",
       "      <th>pixel_9998</th>\n",
       "      <th>pixel_9999</th>\n",
       "      <th>gender</th>\n",
       "    </tr>\n",
       "  </thead>\n",
       "  <tbody>\n",
       "    <tr>\n",
       "      <th>0</th>\n",
       "      <td>0.419608</td>\n",
       "      <td>0.478431</td>\n",
       "      <td>0.615686</td>\n",
       "      <td>0.576471</td>\n",
       "      <td>0.384314</td>\n",
       "      <td>0.400000</td>\n",
       "      <td>0.349020</td>\n",
       "      <td>0.407843</td>\n",
       "      <td>0.450980</td>\n",
       "      <td>0.541176</td>\n",
       "      <td>...</td>\n",
       "      <td>0.341176</td>\n",
       "      <td>0.545098</td>\n",
       "      <td>0.352941</td>\n",
       "      <td>0.466667</td>\n",
       "      <td>0.627451</td>\n",
       "      <td>0.745098</td>\n",
       "      <td>0.752941</td>\n",
       "      <td>0.733333</td>\n",
       "      <td>0.756863</td>\n",
       "      <td>female</td>\n",
       "    </tr>\n",
       "    <tr>\n",
       "      <th>1</th>\n",
       "      <td>0.070588</td>\n",
       "      <td>0.086275</td>\n",
       "      <td>0.035294</td>\n",
       "      <td>0.050980</td>\n",
       "      <td>0.050980</td>\n",
       "      <td>0.027451</td>\n",
       "      <td>0.023529</td>\n",
       "      <td>0.027451</td>\n",
       "      <td>0.039216</td>\n",
       "      <td>0.039216</td>\n",
       "      <td>...</td>\n",
       "      <td>0.235294</td>\n",
       "      <td>0.219608</td>\n",
       "      <td>0.200000</td>\n",
       "      <td>0.180392</td>\n",
       "      <td>0.180392</td>\n",
       "      <td>0.180392</td>\n",
       "      <td>0.176471</td>\n",
       "      <td>0.156863</td>\n",
       "      <td>0.141176</td>\n",
       "      <td>female</td>\n",
       "    </tr>\n",
       "    <tr>\n",
       "      <th>2</th>\n",
       "      <td>0.196078</td>\n",
       "      <td>0.196078</td>\n",
       "      <td>0.196078</td>\n",
       "      <td>0.196078</td>\n",
       "      <td>0.196078</td>\n",
       "      <td>0.196078</td>\n",
       "      <td>0.196078</td>\n",
       "      <td>0.196078</td>\n",
       "      <td>0.196078</td>\n",
       "      <td>0.196078</td>\n",
       "      <td>...</td>\n",
       "      <td>0.525490</td>\n",
       "      <td>0.533333</td>\n",
       "      <td>0.525490</td>\n",
       "      <td>0.513725</td>\n",
       "      <td>0.509804</td>\n",
       "      <td>0.498039</td>\n",
       "      <td>0.494118</td>\n",
       "      <td>0.541176</td>\n",
       "      <td>0.619608</td>\n",
       "      <td>female</td>\n",
       "    </tr>\n",
       "    <tr>\n",
       "      <th>3</th>\n",
       "      <td>0.152941</td>\n",
       "      <td>0.172549</td>\n",
       "      <td>0.141176</td>\n",
       "      <td>0.125490</td>\n",
       "      <td>0.176471</td>\n",
       "      <td>0.125490</td>\n",
       "      <td>0.196078</td>\n",
       "      <td>0.078431</td>\n",
       "      <td>0.133333</td>\n",
       "      <td>0.121569</td>\n",
       "      <td>...</td>\n",
       "      <td>0.074510</td>\n",
       "      <td>0.070588</td>\n",
       "      <td>0.054902</td>\n",
       "      <td>0.094118</td>\n",
       "      <td>0.070588</td>\n",
       "      <td>0.109804</td>\n",
       "      <td>0.086275</td>\n",
       "      <td>0.152941</td>\n",
       "      <td>0.137255</td>\n",
       "      <td>female</td>\n",
       "    </tr>\n",
       "    <tr>\n",
       "      <th>4</th>\n",
       "      <td>0.423529</td>\n",
       "      <td>0.380392</td>\n",
       "      <td>0.294118</td>\n",
       "      <td>0.282353</td>\n",
       "      <td>0.278431</td>\n",
       "      <td>0.321569</td>\n",
       "      <td>0.364706</td>\n",
       "      <td>0.349020</td>\n",
       "      <td>0.321569</td>\n",
       "      <td>0.301961</td>\n",
       "      <td>...</td>\n",
       "      <td>0.905882</td>\n",
       "      <td>0.909804</td>\n",
       "      <td>0.792157</td>\n",
       "      <td>0.835294</td>\n",
       "      <td>0.933333</td>\n",
       "      <td>0.952941</td>\n",
       "      <td>0.945098</td>\n",
       "      <td>0.713725</td>\n",
       "      <td>0.447059</td>\n",
       "      <td>female</td>\n",
       "    </tr>\n",
       "  </tbody>\n",
       "</table>\n",
       "<p>5 rows × 10001 columns</p>\n",
       "</div>"
      ],
      "text/plain": [
       "    pixel_0   pixel_1   pixel_2   pixel_3   pixel_4   pixel_5   pixel_6  \\\n",
       "0  0.419608  0.478431  0.615686  0.576471  0.384314  0.400000  0.349020   \n",
       "1  0.070588  0.086275  0.035294  0.050980  0.050980  0.027451  0.023529   \n",
       "2  0.196078  0.196078  0.196078  0.196078  0.196078  0.196078  0.196078   \n",
       "3  0.152941  0.172549  0.141176  0.125490  0.176471  0.125490  0.196078   \n",
       "4  0.423529  0.380392  0.294118  0.282353  0.278431  0.321569  0.364706   \n",
       "\n",
       "    pixel_7   pixel_8   pixel_9  ...  pixel_9991  pixel_9992  pixel_9993  \\\n",
       "0  0.407843  0.450980  0.541176  ...    0.341176    0.545098    0.352941   \n",
       "1  0.027451  0.039216  0.039216  ...    0.235294    0.219608    0.200000   \n",
       "2  0.196078  0.196078  0.196078  ...    0.525490    0.533333    0.525490   \n",
       "3  0.078431  0.133333  0.121569  ...    0.074510    0.070588    0.054902   \n",
       "4  0.349020  0.321569  0.301961  ...    0.905882    0.909804    0.792157   \n",
       "\n",
       "   pixel_9994  pixel_9995  pixel_9996  pixel_9997  pixel_9998  pixel_9999  \\\n",
       "0    0.466667    0.627451    0.745098    0.752941    0.733333    0.756863   \n",
       "1    0.180392    0.180392    0.180392    0.176471    0.156863    0.141176   \n",
       "2    0.513725    0.509804    0.498039    0.494118    0.541176    0.619608   \n",
       "3    0.094118    0.070588    0.109804    0.086275    0.152941    0.137255   \n",
       "4    0.835294    0.933333    0.952941    0.945098    0.713725    0.447059   \n",
       "\n",
       "   gender  \n",
       "0  female  \n",
       "1  female  \n",
       "2  female  \n",
       "3  female  \n",
       "4  female  \n",
       "\n",
       "[5 rows x 10001 columns]"
      ]
     },
     "execution_count": 32,
     "metadata": {},
     "output_type": "execute_result"
    }
   ],
   "source": [
    "# since for 8 bit image max value is 255 \n",
    "# therefore we are dividing each and every pixel with 255\n",
    "data = data/255.0 \n",
    "data['gender'] = df_filter['gender']\n",
    "data.head()"
   ]
  },
  {
   "cell_type": "code",
   "execution_count": 33,
   "metadata": {},
   "outputs": [
    {
     "data": {
      "text/plain": [
       "0"
      ]
     },
     "execution_count": 33,
     "metadata": {},
     "output_type": "execute_result"
    }
   ],
   "source": [
    "###\n",
    "data.isnull().sum().sum()"
   ]
  },
  {
   "cell_type": "code",
   "execution_count": 34,
   "metadata": {},
   "outputs": [],
   "source": [
    "## remove the missing values\n",
    "data.dropna(inplace=True)"
   ]
  },
  {
   "cell_type": "code",
   "execution_count": 35,
   "metadata": {},
   "outputs": [
    {
     "data": {
      "text/plain": [
       "(4323, 10001)"
      ]
     },
     "execution_count": 35,
     "metadata": {},
     "output_type": "execute_result"
    }
   ],
   "source": [
    "data.shape"
   ]
  },
  {
   "cell_type": "code",
   "execution_count": 36,
   "metadata": {},
   "outputs": [],
   "source": [
    "import pickle\n",
    "pickle.dump(data,open('./data/data_images_100_100.pickle',mode='wb'))"
   ]
  }
 ],
 "metadata": {
  "kernelspec": {
   "display_name": "face_recognition_venv",
   "language": "python",
   "name": "python3"
  },
  "language_info": {
   "codemirror_mode": {
    "name": "ipython",
    "version": 3
   },
   "file_extension": ".py",
   "mimetype": "text/x-python",
   "name": "python",
   "nbconvert_exporter": "python",
   "pygments_lexer": "ipython3",
   "version": "3.10.12"
  },
  "orig_nbformat": 4
 },
 "nbformat": 4,
 "nbformat_minor": 2
}
